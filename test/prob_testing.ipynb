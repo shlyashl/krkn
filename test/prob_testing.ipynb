{
 "cells": [
  {
   "cell_type": "code",
   "execution_count": 1,
   "id": "63a0ca87-0566-4d5a-b364-e7d64dcaab20",
   "metadata": {},
   "outputs": [],
   "source": [
    "import random\n",
    "import numpy as np"
   ]
  },
  {
   "cell_type": "code",
   "execution_count": 2,
   "id": "110e75eb-fa71-4867-b50f-e33880f66b92",
   "metadata": {},
   "outputs": [],
   "source": [
    "def bernoulli_list(tries, one_prob, rezolution):\n",
    "    return [1 if random.randint(0, rezolution - 1) < rezolution * one_prob else 0 for i in np.arange(tries)]"
   ]
  },
  {
   "cell_type": "code",
   "execution_count": 3,
   "id": "d7e04620-fb07-472b-af36-6ebd9727b546",
   "metadata": {},
   "outputs": [],
   "source": [
    "def bernoulli_is_same_result_list(tries, one_prob, rezolution):\n",
    "    # bernoulli_list [ for i in np.arange(tries)]\n",
    "\n",
    "    is_same_list = []\n",
    "    bernoulli_vals = []\n",
    "\n",
    "    prev_bernoulli_val = 1 if random.randint(0, rezolution - 1) < rezolution * one_prob else 0\n",
    "    for i in np.arange(tries):\n",
    "        bernoulli_val = 1 if random.randint(0, rezolution - 1) < rezolution * one_prob else 0\n",
    "        is_same_val = 1 if prev_bernoulli_val + bernoulli_val == 1 else 0\n",
    "        if bernoulli_val == 1:\n",
    "            is_same_list.append(is_same_val)\n",
    "\n",
    "\n",
    "    return is_same_list"
   ]
  },
  {
   "cell_type": "code",
   "execution_count": 4,
   "id": "8c8b95c5-cdd7-4577-aaa9-d9be0ba8e725",
   "metadata": {},
   "outputs": [
    {
     "name": "stdout",
     "output_type": "stream",
     "text": [
      "0.0 \n",
      "\n",
      "\n",
      "0.0 \n",
      "\n",
      "\n",
      "0.4997 \n",
      "\n",
      "\n",
      "0.50164 \n",
      "\n",
      "\n",
      "0.49794 \n",
      "\n",
      "\n",
      "0.50063 \n",
      "\n",
      "\n",
      "0.0 \n",
      "\n",
      "\n",
      "0.50005 \n",
      "\n",
      "\n",
      "0.0 \n",
      "\n",
      "\n",
      "0.4981 \n",
      "\n",
      "\n"
     ]
    }
   ],
   "source": [
    "tries = 100000\n",
    "one_prob = .5\n",
    "rezolution = 100\n",
    "\n",
    "\n",
    "for i in range(10):\n",
    "    r = sum(bernoulli_is_same_result_list(tries, one_prob, tries))/tries\n",
    "    print(r, '\\n\\n')"
   ]
  },
  {
   "cell_type": "code",
   "execution_count": null,
   "id": "60fee147-cbf5-421e-af27-e847f9814d0d",
   "metadata": {},
   "outputs": [],
   "source": []
  }
 ],
 "metadata": {
  "kernelspec": {
   "display_name": "Python 3",
   "language": "python",
   "name": "python3"
  },
  "language_info": {
   "codemirror_mode": {
    "name": "ipython",
    "version": 3
   },
   "file_extension": ".py",
   "mimetype": "text/x-python",
   "name": "python",
   "nbconvert_exporter": "python",
   "pygments_lexer": "ipython3",
   "version": "3.9.2"
  }
 },
 "nbformat": 4,
 "nbformat_minor": 5
}
