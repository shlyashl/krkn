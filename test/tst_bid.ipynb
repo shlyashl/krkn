{
 "cells": [
  {
   "cell_type": "code",
   "execution_count": 12,
   "id": "24c0ef0e-e187-48cd-aad4-b28dd6a51682",
   "metadata": {},
   "outputs": [],
   "source": [
    "import time\n",
    "import urllib.parse\n",
    "import hashlib\n",
    "import hmac\n",
    "import base64\n",
    "import os\n",
    "import requests"
   ]
  },
  {
   "cell_type": "code",
   "execution_count": 13,
   "id": "8b9d6466-be50-426f-91a2-bdf06b162338",
   "metadata": {},
   "outputs": [],
   "source": [
    "def current_milli_time():\n",
    "    return str(int(1000*time.time()))"
   ]
  },
  {
   "cell_type": "code",
   "execution_count": 14,
   "id": "678c9a27-e89d-48d7-b3c1-f0a6b9625a05",
   "metadata": {},
   "outputs": [],
   "source": [
    "def get_kraken_signature(urlpath, data, secret):\n",
    "\n",
    "    postdata = urllib.parse.urlencode(data)\n",
    "    encoded = (str(data['nonce']) + postdata).encode()\n",
    "    message = urlpath.encode() + hashlib.sha256(encoded).digest()\n",
    "\n",
    "    mac = hmac.new(base64.b64decode(secret), message, hashlib.sha512)\n",
    "    sigdigest = base64.b64encode(mac.digest())\n",
    "    return sigdigest.decode()"
   ]
  },
  {
   "cell_type": "code",
   "execution_count": 15,
   "id": "7376422b-1da0-462a-baee-5874da2a9923",
   "metadata": {},
   "outputs": [],
   "source": [
    "# Attaches auth headers and returns results of a POST request\n",
    "def kraken_request(uri_path, data, api_key, api_sec):\n",
    "    headers = {}\n",
    "    headers['API-Key'] = api_key\n",
    "    # get_kraken_signature() as defined in the 'Authentication' section\n",
    "    headers['API-Sign'] = get_kraken_signature(uri_path, data, api_sec)\n",
    "    req = requests.post((api_url + uri_path), headers=headers, data=data)\n",
    "    return req"
   ]
  },
  {
   "cell_type": "code",
   "execution_count": 16,
   "id": "7cd70de1-669f-4591-a25b-78db3a11b78f",
   "metadata": {},
   "outputs": [
    {
     "name": "stdout",
     "output_type": "stream",
     "text": [
      "{'error': [], 'result': {'descr': {'order': 'buy 0.00020000 XBTUSD @ market'}, 'txid': ['OXTRJM-NCX6G-3LZ3UL']}}\n",
      "{'nonce': '1629956023827', 'ordertype': 'market', 'pair': 'XBTUSD', 'type': 'buy', 'volume': 0.0002}\n"
     ]
    }
   ],
   "source": [
    "def buy_order_best_price(api_key, api_sec, wish_coin_price, usd_vol = 10):\n",
    "    uri_path = '/0/private/AddOrder'\n",
    "    coin_vol = round((usd_vol/wish_coin_price),5)\n",
    "    data = {\n",
    "        \"nonce\": current_milli_time(),\n",
    "        \"ordertype\": \"market\", \n",
    "        \"pair\": \"XBTUSD\",\n",
    "        \"type\": \"buy\",\n",
    "        \"volume\": coin_vol,\n",
    "        \n",
    "    }\n",
    "    \n",
    "    try:\n",
    "        resp = kraken_request(uri_path, data, api_key, api_sec).json()\n",
    "        print(f\"order: {resp['result']['descr']['order']}\\ttxid: {resp['result']['txid']}\\terrors: {resp['error']}\")\n",
    "    except KeyError as e:\n",
    "        print(resp)\n",
    "        raise(e)\n",
    "    return {'txid': resp['result']['txid'][0], 'coin_vol': float(resp['result']['descr']['order'].split(' ')[1])}\n",
    "\n",
    "    print(data)\n",
    "    \n",
    "api_url = 'https://api.kraken.com'\n",
    "api_sec = 'OPMkSRkt9lgLE5RRsWD7VKnstU8L4mEsr/K45wV9wOycmutTTod/D13/owSadiqB6mm6CMdOqFL7KnFuIrRFmw=='\n",
    "api_key = 'MQN3A/ARCcCVP0TTIladpbcrVTwvdRDHLNJ05p5wN2tnBhz4DGmXDCIL'\n",
    "\n",
    "\n",
    "buy_order_best_price(api_key, api_sec, 49020.6, 10)\n"
   ]
  },
  {
   "cell_type": "code",
   "execution_count": null,
   "id": "f3adfc11-047d-4ff2-b201-13f78205c381",
   "metadata": {},
   "outputs": [],
   "source": [
    "def get_order_info(api_key, api_sec, order):\n",
    "    uri_path = '/0/private/QueryOrders'\n",
    "    data = {\n",
    "        \"nonce\": current_milli_time(),\n",
    "        \"txid\": order['txid'],\n",
    "        \"trades\": False\n",
    "    }\n",
    "    \n",
    "    try:\n",
    "        resp = kraken_request(uri_path, data, api_key, api_sec).json()\n",
    "        print(f\"chekin info for order {order}\")\n",
    "    except KeyError as e:\n",
    "        print(resp)\n",
    "        raise(e)\n",
    "        \n",
    "    order_info = {\n",
    "        'txid'   : order['txid'],\n",
    "        'pair'   : resp['result'][order['txid']]['descr']['pair'],\n",
    "        'type'   : resp['result'][order['txid']]['descr']['type'],\n",
    "        'status' : resp['result'][order['txid']]['status'], # open, closed, canceled \n",
    "        'price'  : float(resp['result'][order['txid']]['price']),\n",
    "        'cost'   : float(resp['result'][order['txid']]['cost']),\n",
    "        'vol'    : float(resp['result'][order['txid']]['vol']),\n",
    "    }\n",
    "    return order_info\n",
    "\n",
    "# api_url = 'https://api.kraken.com'\n",
    "# api_sec = 'OPMkSRkt9lgLE5RRsWD7VKnstU8L4mEsr/K45wV9wOycmutTTod/D13/owSadiqB6mm6CMdOqFL7KnFuIrRFmw=='\n",
    "# api_key = 'MQN3A/ARCcCVP0TTIladpbcrVTwvdRDHLNJ05p5wN2tnBhz4DGmXDCIL'\n",
    "\n",
    "\n",
    "# order = {'txid': 'OXTRJM-NCX6G-3LZ3UL', 'coin_vol': 1}\n",
    "# order_info = get_order_price_vol(api_key, api_sec, order)\n",
    "\n",
    "# print(order_info)\n"
   ]
  },
  {
   "cell_type": "code",
   "execution_count": 17,
   "id": "17827e63-eec2-447f-9c38-27ebf98e057b",
   "metadata": {},
   "outputs": [],
   "source": [
    "def buy_order(api_key, api_sec, coin_price, usd_vol = 10):\n",
    "    uri_path = '/0/private/AddOrder'\n",
    "    coin_vol = round((10/coin_price),5)\n",
    "    print(coin_vol)\n",
    "    data = {\n",
    "        \"nonce\": current_milli_time(),\n",
    "        \"ordertype\": \"limit\", \n",
    "        \"pair\": \"XBTUSD\",\n",
    "        \"price\": coin_price, \n",
    "        \"type\": \"buy\",\n",
    "        \"volume\": coin_vol\n",
    "    }\n",
    "    try:\n",
    "        resp = kraken_request(uri_path, data, api_key, api_sec).json()\n",
    "        print(f\"order: {resp['result']['descr']['order']}\\ttxid: {resp['result']['txid']}\\terrors: {resp['error']}\")\n",
    "    except KeyError as e:\n",
    "        print(resp)\n",
    "        raise(e)\n",
    "    return {'txid': resp['result']['txid'][0], 'coin_vol': float(resp['result']['descr']['order'].split(' ')[1])}"
   ]
  },
  {
   "cell_type": "code",
   "execution_count": 7,
   "id": "d7d97030-84e3-479b-a871-ee3adf6b0d4a",
   "metadata": {},
   "outputs": [],
   "source": [
    "def sell_order(api_key, api_sec, coin_price, coins_vol):\n",
    "    uri_path = '/0/private/AddOrder'\n",
    "    data = {\n",
    "        \"nonce\": current_milli_time(),\n",
    "        \"ordertype\": \"limit\", \n",
    "        \"pair\": \"XBTUSD\",\n",
    "        \"price\": coin_price, \n",
    "        \"type\": \"sell\",\n",
    "        \"volume\": coins_vol\n",
    "    }\n",
    "    try:\n",
    "        resp = kraken_request(uri_path, data, api_key, api_sec).json()\n",
    "        print(f\"order: {resp['result']['descr']['order']}\\ttxid: {resp['result']['txid']}\\terrors: {resp['error']}\")\n",
    "    except KeyError as e:\n",
    "        print(resp)\n",
    "        raise(e)\n",
    "    return {'txid': resp['result']['txid'][0], 'usd_vol': coin_price*coins_vol}"
   ]
  },
  {
   "cell_type": "code",
   "execution_count": 8,
   "id": "5f8335ba-7271-432c-9d22-ac7b2021de9f",
   "metadata": {},
   "outputs": [],
   "source": [
    "def check_order(api_key, api_sec, order):\n",
    "    uri_path = '/0/private/QueryOrders'\n",
    "    data = {\n",
    "        \"nonce\": current_milli_time(),\n",
    "        \"txid\": order['txid'],\n",
    "        \"trades\": False\n",
    "    }\n",
    "    \n",
    "    try:\n",
    "        resp = kraken_request(uri_path, data, api_key, api_sec).json()\n",
    "        print(f\"status txid: {order['txid']}\\tstatus: {resp['result'][order['txid']]['status']}\\terrors: {resp['error']}\")\n",
    "    except KeyError as e:\n",
    "        print(resp)\n",
    "        raise(e)\n",
    "    # open, closed, canceled \n",
    "    return resp['result'][order['txid']]['status']"
   ]
  },
  {
   "cell_type": "code",
   "execution_count": 9,
   "id": "de2ac1d7-1fa2-49b8-a06d-ccf0355cff4e",
   "metadata": {},
   "outputs": [],
   "source": [
    "def cancel_order(api_key, api_sec, order):\n",
    "    uri_path = '/0/private/CancelOrder'\n",
    "    data = {\n",
    "        \"nonce\": current_milli_time(),\n",
    "        \"txid\": order['txid']\n",
    "    }\n",
    "    \n",
    "    try:\n",
    "        resp = kraken_request(uri_path, data, api_key, api_sec).json()\n",
    "        print(f\"cancel txid: {order['txid']}\\terrors: {resp['error']}\")\n",
    "    except KeyError as e:\n",
    "        print(resp)\n",
    "        raise(e)\n",
    "        \n",
    "    return order['txid']"
   ]
  },
  {
   "cell_type": "code",
   "execution_count": null,
   "id": "bff1b772-ecf0-4e2d-8b57-12d57a135c16",
   "metadata": {},
   "outputs": [],
   "source": []
  },
  {
   "cell_type": "code",
   "execution_count": 11,
   "id": "3eb11e9d-d0a3-46fb-b3a5-20b7958c39a0",
   "metadata": {},
   "outputs": [
    {
     "name": "stdout",
     "output_type": "stream",
     "text": [
      "0.00023\n",
      "order: buy 0.00023000 XBTUSD @ limit 43000.0\ttxid: ['O4VMES-D4KFR-EJXGWU']\terrors: []\n",
      "cancel txid: O4VMES-D4KFR-EJXGWU\terrors: []\n",
      "order: sell 0.00023000 XBTUSD @ limit 70000.0\ttxid: ['OKZP6M-4ZFNH-UPEBDY']\terrors: []\n",
      "cancel txid: OKZP6M-4ZFNH-UPEBDY\terrors: []\n",
      "status txid: OKZP6M-4ZFNH-UPEBDY\tstatus: canceled\terrors: []\n",
      "Wall time: 4.26 s\n"
     ]
    }
   ],
   "source": [
    "%%time\n",
    "api_url = 'https://api.kraken.com'\n",
    "api_sec = 'OPMkSRkt9lgLE5RRsWD7VKnstU8L4mEsr/K45wV9wOycmutTTod/D13/owSadiqB6mm6CMdOqFL7KnFuIrRFmw=='\n",
    "api_key = 'MQN3A/ARCcCVP0TTIladpbcrVTwvdRDHLNJ05p5wN2tnBhz4DGmXDCIL'\n",
    "\n",
    "order = buy_order(api_key, api_sec, 43000, usd_vol = 10)\n",
    "canceled_txid = cancel_order(api_key, api_sec, order)\n",
    "\n",
    "order = sell_order(api_key, api_sec, 70000, order['coin_vol'])\n",
    "canceled_txid = cancel_order(api_key, api_sec, order)\n",
    "\n",
    "order_status = check_order(api_key, api_sec, order)\n",
    "\n"
   ]
  },
  {
   "cell_type": "code",
   "execution_count": null,
   "id": "7e171b61-06e5-474f-804b-56534f483d60",
   "metadata": {},
   "outputs": [],
   "source": []
  },
  {
   "cell_type": "code",
   "execution_count": null,
   "id": "bee1d96e-1c80-4169-b638-bdab99ba3288",
   "metadata": {},
   "outputs": [],
   "source": []
  },
  {
   "cell_type": "code",
   "execution_count": null,
   "id": "e7656b94-99b3-4d12-8de8-74fb97599229",
   "metadata": {},
   "outputs": [],
   "source": []
  },
  {
   "cell_type": "code",
   "execution_count": null,
   "id": "d7c57399-2efe-4f51-97ac-aee3fb06a088",
   "metadata": {},
   "outputs": [],
   "source": []
  },
  {
   "cell_type": "code",
   "execution_count": null,
   "id": "b332b06a-68b8-46a4-9825-56c69d79e418",
   "metadata": {},
   "outputs": [],
   "source": []
  }
 ],
 "metadata": {
  "kernelspec": {
   "display_name": "Python 3",
   "language": "python",
   "name": "python3"
  },
  "language_info": {
   "codemirror_mode": {
    "name": "ipython",
    "version": 3
   },
   "file_extension": ".py",
   "mimetype": "text/x-python",
   "name": "python",
   "nbconvert_exporter": "python",
   "pygments_lexer": "ipython3",
   "version": "3.9.2"
  }
 },
 "nbformat": 4,
 "nbformat_minor": 5
}
